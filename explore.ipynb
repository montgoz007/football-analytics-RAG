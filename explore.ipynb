{
 "cells": [
  {
   "cell_type": "code",
   "execution_count": 1,
   "metadata": {},
   "outputs": [],
   "source": [
    "import pandas as pd\n",
    "\n",
    "# Import the QA module\n",
    "from qa_module import ask_question"
   ]
  },
  {
   "cell_type": "code",
   "execution_count": 2,
   "metadata": {},
   "outputs": [
    {
     "data": {
      "text/html": [
       "<div>\n",
       "<style scoped>\n",
       "    .dataframe tbody tr th:only-of-type {\n",
       "        vertical-align: middle;\n",
       "    }\n",
       "\n",
       "    .dataframe tbody tr th {\n",
       "        vertical-align: top;\n",
       "    }\n",
       "\n",
       "    .dataframe thead th {\n",
       "        text-align: right;\n",
       "    }\n",
       "</style>\n",
       "<table border=\"1\" class=\"dataframe\">\n",
       "  <thead>\n",
       "    <tr style=\"text-align: right;\">\n",
       "      <th></th>\n",
       "      <th>url</th>\n",
       "      <th>title</th>\n",
       "      <th>youtuber</th>\n",
       "      <th>playlist_name</th>\n",
       "    </tr>\n",
       "  </thead>\n",
       "  <tbody>\n",
       "    <tr>\n",
       "      <th>0</th>\n",
       "      <td>https://youtube.com/watch?v=K6QF4UQw1e4</td>\n",
       "      <td>Why Erling Haaland Is Scoring SO MANY Goals At...</td>\n",
       "      <td>FourFourTwo</td>\n",
       "      <td>FourFourTwo Analysis</td>\n",
       "    </tr>\n",
       "    <tr>\n",
       "      <th>1</th>\n",
       "      <td>https://youtube.com/watch?v=e6H966wHR_4</td>\n",
       "      <td>Why Teams Aren't Scared Of Liverpool Anymore</td>\n",
       "      <td>FourFourTwo</td>\n",
       "      <td>FourFourTwo Analysis</td>\n",
       "    </tr>\n",
       "    <tr>\n",
       "      <th>2</th>\n",
       "      <td>https://youtube.com/watch?v=a8HintfLkFQ</td>\n",
       "      <td>Conte Sacked! Did He Fail At Tottenham, Or Did...</td>\n",
       "      <td>FourFourTwo</td>\n",
       "      <td>FourFourTwo Analysis</td>\n",
       "    </tr>\n",
       "    <tr>\n",
       "      <th>3</th>\n",
       "      <td>https://youtube.com/watch?v=0L3pNFQmqMA</td>\n",
       "      <td>Everton's Potential Points Deduction Explained</td>\n",
       "      <td>FourFourTwo</td>\n",
       "      <td>FourFourTwo Analysis</td>\n",
       "    </tr>\n",
       "    <tr>\n",
       "      <th>4</th>\n",
       "      <td>https://youtube.com/watch?v=Sdp9YKrWgQM</td>\n",
       "      <td>Why Gareth Southgate ALWAYS Picks Harry Maguire</td>\n",
       "      <td>FourFourTwo</td>\n",
       "      <td>FourFourTwo Analysis</td>\n",
       "    </tr>\n",
       "    <tr>\n",
       "      <th>...</th>\n",
       "      <td>...</td>\n",
       "      <td>...</td>\n",
       "      <td>...</td>\n",
       "      <td>...</td>\n",
       "    </tr>\n",
       "    <tr>\n",
       "      <th>258</th>\n",
       "      <td>https://youtube.com/watch?v=Vr0NHeqV-Y4</td>\n",
       "      <td>HUGE Spurs Man Utd &amp; Liverpool Transfer Rumour...</td>\n",
       "      <td>Barnaby Slater</td>\n",
       "      <td>Daily Premier League Transfer News</td>\n",
       "    </tr>\n",
       "    <tr>\n",
       "      <th>259</th>\n",
       "      <td>https://youtube.com/watch?v=C2rt9-N_8Nk</td>\n",
       "      <td>Spurs rivals to make MASSIVE signings! | Daily...</td>\n",
       "      <td>Barnaby Slater</td>\n",
       "      <td>Daily Premier League Transfer News</td>\n",
       "    </tr>\n",
       "    <tr>\n",
       "      <th>260</th>\n",
       "      <td>https://youtube.com/watch?v=TtD9Q7nVtHQ</td>\n",
       "      <td>MASSIVE Premier League Transfer Rumours! | Fea...</td>\n",
       "      <td>Barnaby Slater</td>\n",
       "      <td>Daily Premier League Transfer News</td>\n",
       "    </tr>\n",
       "    <tr>\n",
       "      <th>261</th>\n",
       "      <td>https://youtube.com/watch?v=9AJUSZ3p7bQ</td>\n",
       "      <td>HUGE bid for BEST striker in the world! Poch t...</td>\n",
       "      <td>Barnaby Slater</td>\n",
       "      <td>Daily Premier League Transfer News</td>\n",
       "    </tr>\n",
       "    <tr>\n",
       "      <th>262</th>\n",
       "      <td>https://youtube.com/watch?v=Bh_lWQm00KA</td>\n",
       "      <td>BIG Spurs Liverpool &amp; Man Utd transfer news! C...</td>\n",
       "      <td>Barnaby Slater</td>\n",
       "      <td>Daily Premier League Transfer News</td>\n",
       "    </tr>\n",
       "  </tbody>\n",
       "</table>\n",
       "<p>263 rows × 4 columns</p>\n",
       "</div>"
      ],
      "text/plain": [
       "                                         url  \\\n",
       "0    https://youtube.com/watch?v=K6QF4UQw1e4   \n",
       "1    https://youtube.com/watch?v=e6H966wHR_4   \n",
       "2    https://youtube.com/watch?v=a8HintfLkFQ   \n",
       "3    https://youtube.com/watch?v=0L3pNFQmqMA   \n",
       "4    https://youtube.com/watch?v=Sdp9YKrWgQM   \n",
       "..                                       ...   \n",
       "258  https://youtube.com/watch?v=Vr0NHeqV-Y4   \n",
       "259  https://youtube.com/watch?v=C2rt9-N_8Nk   \n",
       "260  https://youtube.com/watch?v=TtD9Q7nVtHQ   \n",
       "261  https://youtube.com/watch?v=9AJUSZ3p7bQ   \n",
       "262  https://youtube.com/watch?v=Bh_lWQm00KA   \n",
       "\n",
       "                                                 title        youtuber  \\\n",
       "0    Why Erling Haaland Is Scoring SO MANY Goals At...     FourFourTwo   \n",
       "1         Why Teams Aren't Scared Of Liverpool Anymore     FourFourTwo   \n",
       "2    Conte Sacked! Did He Fail At Tottenham, Or Did...     FourFourTwo   \n",
       "3       Everton's Potential Points Deduction Explained     FourFourTwo   \n",
       "4      Why Gareth Southgate ALWAYS Picks Harry Maguire     FourFourTwo   \n",
       "..                                                 ...             ...   \n",
       "258  HUGE Spurs Man Utd & Liverpool Transfer Rumour...  Barnaby Slater   \n",
       "259  Spurs rivals to make MASSIVE signings! | Daily...  Barnaby Slater   \n",
       "260  MASSIVE Premier League Transfer Rumours! | Fea...  Barnaby Slater   \n",
       "261  HUGE bid for BEST striker in the world! Poch t...  Barnaby Slater   \n",
       "262  BIG Spurs Liverpool & Man Utd transfer news! C...  Barnaby Slater   \n",
       "\n",
       "                          playlist_name  \n",
       "0                  FourFourTwo Analysis  \n",
       "1                  FourFourTwo Analysis  \n",
       "2                  FourFourTwo Analysis  \n",
       "3                  FourFourTwo Analysis  \n",
       "4                  FourFourTwo Analysis  \n",
       "..                                  ...  \n",
       "258  Daily Premier League Transfer News  \n",
       "259  Daily Premier League Transfer News  \n",
       "260  Daily Premier League Transfer News  \n",
       "261  Daily Premier League Transfer News  \n",
       "262  Daily Premier League Transfer News  \n",
       "\n",
       "[263 rows x 4 columns]"
      ]
     },
     "execution_count": 2,
     "metadata": {},
     "output_type": "execute_result"
    }
   ],
   "source": [
    "df = pd.read_csv('data/url_lists/playlist_urls.csv')\n",
    "df"
   ]
  },
  {
   "cell_type": "code",
   "execution_count": 3,
   "metadata": {},
   "outputs": [
    {
     "data": {
      "text/html": [
       "<div>\n",
       "<style scoped>\n",
       "    .dataframe tbody tr th:only-of-type {\n",
       "        vertical-align: middle;\n",
       "    }\n",
       "\n",
       "    .dataframe tbody tr th {\n",
       "        vertical-align: top;\n",
       "    }\n",
       "\n",
       "    .dataframe thead th {\n",
       "        text-align: right;\n",
       "    }\n",
       "</style>\n",
       "<table border=\"1\" class=\"dataframe\">\n",
       "  <thead>\n",
       "    <tr style=\"text-align: right;\">\n",
       "      <th></th>\n",
       "      <th>url</th>\n",
       "      <th>title</th>\n",
       "      <th>youtuber</th>\n",
       "      <th>playlist_name</th>\n",
       "      <th>video_id</th>\n",
       "      <th>transcript</th>\n",
       "    </tr>\n",
       "  </thead>\n",
       "  <tbody>\n",
       "    <tr>\n",
       "      <th>0</th>\n",
       "      <td>https://youtube.com/watch?v=K6QF4UQw1e4</td>\n",
       "      <td>Why Erling Haaland Is Scoring SO MANY Goals At...</td>\n",
       "      <td>FourFourTwo</td>\n",
       "      <td>FourFourTwo Analysis</td>\n",
       "      <td>K6QF4UQw1e4</td>\n",
       "      <td>hello everybody Adam leary442 here and early h...</td>\n",
       "    </tr>\n",
       "    <tr>\n",
       "      <th>1</th>\n",
       "      <td>https://youtube.com/watch?v=e6H966wHR_4</td>\n",
       "      <td>Why Teams Aren't Scared Of Liverpool Anymore</td>\n",
       "      <td>FourFourTwo</td>\n",
       "      <td>FourFourTwo Analysis</td>\n",
       "      <td>e6H966wHR_4</td>\n",
       "      <td>Liverpool are rubbish they're terrible the fin...</td>\n",
       "    </tr>\n",
       "    <tr>\n",
       "      <th>2</th>\n",
       "      <td>https://youtube.com/watch?v=a8HintfLkFQ</td>\n",
       "      <td>Conte Sacked! Did He Fail At Tottenham, Or Did...</td>\n",
       "      <td>FourFourTwo</td>\n",
       "      <td>FourFourTwo Analysis</td>\n",
       "      <td>a8HintfLkFQ</td>\n",
       "      <td>it's day whatever in the Antonio Conte Saga at...</td>\n",
       "    </tr>\n",
       "    <tr>\n",
       "      <th>3</th>\n",
       "      <td>https://youtube.com/watch?v=0L3pNFQmqMA</td>\n",
       "      <td>Everton's Potential Points Deduction Explained</td>\n",
       "      <td>FourFourTwo</td>\n",
       "      <td>FourFourTwo Analysis</td>\n",
       "      <td>0L3pNFQmqMA</td>\n",
       "      <td>[Music] the Premier League have referred Evert...</td>\n",
       "    </tr>\n",
       "    <tr>\n",
       "      <th>4</th>\n",
       "      <td>https://youtube.com/watch?v=Sdp9YKrWgQM</td>\n",
       "      <td>Why Gareth Southgate ALWAYS Picks Harry Maguire</td>\n",
       "      <td>FourFourTwo</td>\n",
       "      <td>FourFourTwo Analysis</td>\n",
       "      <td>Sdp9YKrWgQM</td>\n",
       "      <td>[Music] foreign McGuire is having one of the w...</td>\n",
       "    </tr>\n",
       "    <tr>\n",
       "      <th>...</th>\n",
       "      <td>...</td>\n",
       "      <td>...</td>\n",
       "      <td>...</td>\n",
       "      <td>...</td>\n",
       "      <td>...</td>\n",
       "      <td>...</td>\n",
       "    </tr>\n",
       "    <tr>\n",
       "      <th>258</th>\n",
       "      <td>https://youtube.com/watch?v=Vr0NHeqV-Y4</td>\n",
       "      <td>HUGE Spurs Man Utd &amp; Liverpool Transfer Rumour...</td>\n",
       "      <td>Barnaby Slater</td>\n",
       "      <td>Daily Premier League Transfer News</td>\n",
       "      <td>Vr0NHeqV-Y4</td>\n",
       "      <td>as the opening of the transfer window gets eve...</td>\n",
       "    </tr>\n",
       "    <tr>\n",
       "      <th>259</th>\n",
       "      <td>https://youtube.com/watch?v=C2rt9-N_8Nk</td>\n",
       "      <td>Spurs rivals to make MASSIVE signings! | Daily...</td>\n",
       "      <td>Barnaby Slater</td>\n",
       "      <td>Daily Premier League Transfer News</td>\n",
       "      <td>C2rt9-N_8Nk</td>\n",
       "      <td>according to Sky Sports Manchester United the ...</td>\n",
       "    </tr>\n",
       "    <tr>\n",
       "      <th>260</th>\n",
       "      <td>https://youtube.com/watch?v=TtD9Q7nVtHQ</td>\n",
       "      <td>MASSIVE Premier League Transfer Rumours! | Fea...</td>\n",
       "      <td>Barnaby Slater</td>\n",
       "      <td>Daily Premier League Transfer News</td>\n",
       "      <td>TtD9Q7nVtHQ</td>\n",
       "      <td>the transfer da himself fabito Romano has said...</td>\n",
       "    </tr>\n",
       "    <tr>\n",
       "      <th>261</th>\n",
       "      <td>https://youtube.com/watch?v=9AJUSZ3p7bQ</td>\n",
       "      <td>HUGE bid for BEST striker in the world! Poch t...</td>\n",
       "      <td>Barnaby Slater</td>\n",
       "      <td>Daily Premier League Transfer News</td>\n",
       "      <td>9AJUSZ3p7bQ</td>\n",
       "      <td>the managerial merrygoround is going absolutel...</td>\n",
       "    </tr>\n",
       "    <tr>\n",
       "      <th>262</th>\n",
       "      <td>https://youtube.com/watch?v=Bh_lWQm00KA</td>\n",
       "      <td>BIG Spurs Liverpool &amp; Man Utd transfer news! C...</td>\n",
       "      <td>Barnaby Slater</td>\n",
       "      <td>Daily Premier League Transfer News</td>\n",
       "      <td>Bh_lWQm00KA</td>\n",
       "      <td>Chelsea are a complete laughing stock are they...</td>\n",
       "    </tr>\n",
       "  </tbody>\n",
       "</table>\n",
       "<p>263 rows × 6 columns</p>\n",
       "</div>"
      ],
      "text/plain": [
       "                                         url  \\\n",
       "0    https://youtube.com/watch?v=K6QF4UQw1e4   \n",
       "1    https://youtube.com/watch?v=e6H966wHR_4   \n",
       "2    https://youtube.com/watch?v=a8HintfLkFQ   \n",
       "3    https://youtube.com/watch?v=0L3pNFQmqMA   \n",
       "4    https://youtube.com/watch?v=Sdp9YKrWgQM   \n",
       "..                                       ...   \n",
       "258  https://youtube.com/watch?v=Vr0NHeqV-Y4   \n",
       "259  https://youtube.com/watch?v=C2rt9-N_8Nk   \n",
       "260  https://youtube.com/watch?v=TtD9Q7nVtHQ   \n",
       "261  https://youtube.com/watch?v=9AJUSZ3p7bQ   \n",
       "262  https://youtube.com/watch?v=Bh_lWQm00KA   \n",
       "\n",
       "                                                 title        youtuber  \\\n",
       "0    Why Erling Haaland Is Scoring SO MANY Goals At...     FourFourTwo   \n",
       "1         Why Teams Aren't Scared Of Liverpool Anymore     FourFourTwo   \n",
       "2    Conte Sacked! Did He Fail At Tottenham, Or Did...     FourFourTwo   \n",
       "3       Everton's Potential Points Deduction Explained     FourFourTwo   \n",
       "4      Why Gareth Southgate ALWAYS Picks Harry Maguire     FourFourTwo   \n",
       "..                                                 ...             ...   \n",
       "258  HUGE Spurs Man Utd & Liverpool Transfer Rumour...  Barnaby Slater   \n",
       "259  Spurs rivals to make MASSIVE signings! | Daily...  Barnaby Slater   \n",
       "260  MASSIVE Premier League Transfer Rumours! | Fea...  Barnaby Slater   \n",
       "261  HUGE bid for BEST striker in the world! Poch t...  Barnaby Slater   \n",
       "262  BIG Spurs Liverpool & Man Utd transfer news! C...  Barnaby Slater   \n",
       "\n",
       "                          playlist_name     video_id  \\\n",
       "0                  FourFourTwo Analysis  K6QF4UQw1e4   \n",
       "1                  FourFourTwo Analysis  e6H966wHR_4   \n",
       "2                  FourFourTwo Analysis  a8HintfLkFQ   \n",
       "3                  FourFourTwo Analysis  0L3pNFQmqMA   \n",
       "4                  FourFourTwo Analysis  Sdp9YKrWgQM   \n",
       "..                                  ...          ...   \n",
       "258  Daily Premier League Transfer News  Vr0NHeqV-Y4   \n",
       "259  Daily Premier League Transfer News  C2rt9-N_8Nk   \n",
       "260  Daily Premier League Transfer News  TtD9Q7nVtHQ   \n",
       "261  Daily Premier League Transfer News  9AJUSZ3p7bQ   \n",
       "262  Daily Premier League Transfer News  Bh_lWQm00KA   \n",
       "\n",
       "                                            transcript  \n",
       "0    hello everybody Adam leary442 here and early h...  \n",
       "1    Liverpool are rubbish they're terrible the fin...  \n",
       "2    it's day whatever in the Antonio Conte Saga at...  \n",
       "3    [Music] the Premier League have referred Evert...  \n",
       "4    [Music] foreign McGuire is having one of the w...  \n",
       "..                                                 ...  \n",
       "258  as the opening of the transfer window gets eve...  \n",
       "259  according to Sky Sports Manchester United the ...  \n",
       "260  the transfer da himself fabito Romano has said...  \n",
       "261  the managerial merrygoround is going absolutel...  \n",
       "262  Chelsea are a complete laughing stock are they...  \n",
       "\n",
       "[263 rows x 6 columns]"
      ]
     },
     "execution_count": 3,
     "metadata": {},
     "output_type": "execute_result"
    }
   ],
   "source": [
    "transcripts_df = pd.read_csv('data/url_lists/transcripts.csv')\n",
    "transcripts_df"
   ]
  },
  {
   "cell_type": "code",
   "execution_count": 4,
   "metadata": {},
   "outputs": [
    {
     "name": "stdout",
     "output_type": "stream",
     "text": [
      " It is generally agreed that Erling Haaland is a good footballer.\n"
     ]
    }
   ],
   "source": [
    "# Define your query\n",
    "query = \"Is Erling haaland a good footballer?\"\n",
    "# Ask the question and get the answer\n",
    "answer = ask_question(query, vectorstore_dir=\"docs/chroma/\", k=20)\n",
    "# Display the answer\n",
    "print(answer)"
   ]
  },
  {
   "cell_type": "code",
   "execution_count": 5,
   "metadata": {},
   "outputs": [
    {
     "name": "stdout",
     "output_type": "stream",
     "text": [
      " Ange Postecoglu is mentioned as the manager of the team and someone who has a specific vision for the team's playing style and recruitment. No other information is provided about who he is.\n"
     ]
    }
   ],
   "source": [
    "# Define your query\n",
    "query = \"Who is Ange Postecoglu?\"\n",
    "# Ask the question and get the answer\n",
    "answer = ask_question(query, vectorstore_dir=\"docs/chroma/\", k=20)\n",
    "# Display the answer\n",
    "print(answer)"
   ]
  },
  {
   "cell_type": "code",
   "execution_count": 6,
   "metadata": {},
   "outputs": [
    {
     "name": "stdout",
     "output_type": "stream",
     "text": [
      " The information includes details on how to become a member for one pound a month and links for more information on the transfer market and the Manchester City squad.\n"
     ]
    }
   ],
   "source": [
    "# Define your query\n",
    "query = \"What information do you have?\"\n",
    "# Ask the question and get the answer\n",
    "answer = ask_question(query, vectorstore_dir=\"docs/chroma/\", k=20)\n",
    "# Display the answer\n",
    "print(answer)"
   ]
  },
  {
   "cell_type": "code",
   "execution_count": 7,
   "metadata": {},
   "outputs": [
    {
     "name": "stdout",
     "output_type": "stream",
     "text": [
      " Rodri is a versatile defensive midfielder who is able to play as a pivot player in building up the team's attack, as well as a reliable passer and a key player in protecting Man City's defense. He is also highly praised for his ability to control the midfield and his impressive performances have attracted interest from top clubs like Real Madrid. \n"
     ]
    }
   ],
   "source": [
    "# Define your query\n",
    "query = \"Why is Rodri so important in Manchester City's midfield?\"\n",
    "# Ask the question and get the answer\n",
    "answer = ask_question(query, vectorstore_dir=\"docs/chroma/\", k=20)\n",
    "# Display the answer\n",
    "print(answer)"
   ]
  },
  {
   "cell_type": "code",
   "execution_count": 12,
   "metadata": {},
   "outputs": [
    {
     "name": "stdout",
     "output_type": "stream",
     "text": [
      " The high intensity and pressing style of play in Ange Postecoglu's system can lead to players getting injured.\n"
     ]
    }
   ],
   "source": [
    "# Define your query\n",
    "query = \"What risks are there to Ange Postecoglu's system?\"\n",
    "# Ask the question and get the answer\n",
    "answer = ask_question(query, vectorstore_dir=\"docs/chroma/\", k=20)\n",
    "# Display the answer\n",
    "print(answer)"
   ]
  },
  {
   "cell_type": "code",
   "execution_count": 9,
   "metadata": {},
   "outputs": [
    {
     "name": "stdout",
     "output_type": "stream",
     "text": [
      " There is speculation that Tottenham Hotspur may be looking to make some transfers during the transfer window, including potentially signing a defender and a goalkeeper. They have been linked with several players, including a young Brazilian and a South Korean player, but it is not clear if any deals will actually go through.\n"
     ]
    }
   ],
   "source": [
    "# Define your query\n",
    "query = \"Tell me about Tottenham's transfers\"\n",
    "# Ask the question and get the answer\n",
    "answer = ask_question(query, vectorstore_dir=\"docs/chroma/\", k=20)\n",
    "# Display the answer\n",
    "print(answer)"
   ]
  },
  {
   "cell_type": "code",
   "execution_count": 10,
   "metadata": {},
   "outputs": [
    {
     "name": "stdout",
     "output_type": "stream",
     "text": [
      " Ange Postecoglu is using a fluid, adaptable system at Tottenham.\n"
     ]
    }
   ],
   "source": [
    "# Define your query\n",
    "query = \"What kind of system is Ange Postecoglu using at Tottenham?\"\n",
    "# Ask the question and get the answer\n",
    "answer = ask_question(query, vectorstore_dir=\"docs/chroma/\", k=20)\n",
    "# Display the answer\n",
    "print(answer)"
   ]
  },
  {
   "cell_type": "code",
   "execution_count": 11,
   "metadata": {},
   "outputs": [
    {
     "name": "stdout",
     "output_type": "stream",
     "text": [
      " Phil Foden's best position is through the middle, in a central attacking or midfield role.\n"
     ]
    }
   ],
   "source": [
    "# Define your query\n",
    "query = \"What is Phil Foden's best position?\"\n",
    "# Ask the question and get the answer\n",
    "answer = ask_question(query, vectorstore_dir=\"docs/chroma/\", k=20)\n",
    "# Display the answer\n",
    "print(answer)"
   ]
  }
 ],
 "metadata": {
  "kernelspec": {
   "display_name": "ragvenv",
   "language": "python",
   "name": "python3"
  },
  "language_info": {
   "codemirror_mode": {
    "name": "ipython",
    "version": 3
   },
   "file_extension": ".py",
   "mimetype": "text/x-python",
   "name": "python",
   "nbconvert_exporter": "python",
   "pygments_lexer": "ipython3",
   "version": "3.11.7"
  }
 },
 "nbformat": 4,
 "nbformat_minor": 2
}
