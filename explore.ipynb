{
 "cells": [
  {
   "cell_type": "code",
   "execution_count": 1,
   "metadata": {},
   "outputs": [],
   "source": [
    "# import warnings\n",
    "\n",
    "# # Suppress specific LangChainDeprecationWarnings\n",
    "# warnings.filterwarnings(\"ignore\", category=DeprecationWarning)\n",
    "\n",
    "# Import the custom module\n",
    "from qa_module import ask_question"
   ]
  },
  {
   "cell_type": "code",
   "execution_count": 3,
   "metadata": {},
   "outputs": [
    {
     "name": "stdout",
     "output_type": "stream",
     "text": [
      " I am an AI, I don't have a name or identity. I am here to answer your questions to the best of my ability.\n"
     ]
    }
   ],
   "source": [
    "# Define your query\n",
    "query = \"Who are you\"\n",
    "# Ask the question and get the answer\n",
    "answer = ask_question(query, vectorstore_dir=\"docs/chroma/\", k=20)\n",
    "# Display the answer\n",
    "print(answer)"
   ]
  },
  {
   "cell_type": "code",
   "execution_count": 4,
   "metadata": {},
   "outputs": [
    {
     "name": "stdout",
     "output_type": "stream",
     "text": [
      " The extracted parts do not provide a clear answer to what the person is specifically good at.\n"
     ]
    }
   ],
   "source": [
    "# Define your query\n",
    "query = \"What are you good at?\"\n",
    "# Ask the question and get the answer\n",
    "answer = ask_question(query, vectorstore_dir=\"docs/chroma/\", k=20)\n",
    "# Display the answer\n",
    "print(answer)"
   ]
  },
  {
   "cell_type": "code",
   "execution_count": 5,
   "metadata": {},
   "outputs": [
    {
     "name": "stdout",
     "output_type": "stream",
     "text": [
      " The information mentioned includes the availability of a new issue of the 442 magazine, its content and features, and potential future content. The speaker also mentions their identity as Adam Cleary, their involvement with 442, and a special offer for new subscribers. They also mention a website for football news and an offer for new subscribers. The speaker also mentions their involvement with the magazine and its content featuring Killian and Bappe. They also mention their identity as a Chelsea fan and the availability of the magazine in stores.\n"
     ]
    }
   ],
   "source": [
    "# Define your query\n",
    "query = \"What information do you have?\"\n",
    "# Ask the question and get the answer\n",
    "answer = ask_question(query, vectorstore_dir=\"docs/chroma/\", k=20)\n",
    "# Display the answer\n",
    "print(answer)"
   ]
  },
  {
   "cell_type": "code",
   "execution_count": 6,
   "metadata": {},
   "outputs": [
    {
     "name": "stdout",
     "output_type": "stream",
     "text": [
      " Yes, Erling Haaland is mentioned as a football player in this portion of the document.\n"
     ]
    }
   ],
   "source": [
    "# Define your query\n",
    "query = \"Is Erling Haaland a football player?\"\n",
    "# Ask the question and get the answer\n",
    "answer = ask_question(query, vectorstore_dir=\"docs/chroma/\", k=20)\n",
    "# Display the answer\n",
    "print(answer)"
   ]
  },
  {
   "cell_type": "code",
   "execution_count": 7,
   "metadata": {},
   "outputs": [
    {
     "name": "stdout",
     "output_type": "stream",
     "text": [
      " Yes, Erling Haaland is considered a good football player by many.\n"
     ]
    }
   ],
   "source": [
    "# Define your query\n",
    "query = \"Is Erling Haaland a good football player?\"\n",
    "# Ask the question and get the answer\n",
    "answer = ask_question(query, vectorstore_dir=\"docs/chroma/\", k=20)\n",
    "# Display the answer\n",
    "print(answer)"
   ]
  },
  {
   "cell_type": "code",
   "execution_count": 8,
   "metadata": {},
   "outputs": [
    {
     "name": "stdout",
     "output_type": "stream",
     "text": [
      " Erling Haaland is a good football player because of his raw physical ability, athleticism, pace, general physical press, and his ability to beat defenders one-on-one. He also has an impressive goal-scoring record and is considered to be one of the best footballers in the world.\n"
     ]
    }
   ],
   "source": [
    "# Define your query\n",
    "query = \"Why is Erling Haaland a good football player?\"\n",
    "# Ask the question and get the answer\n",
    "answer = ask_question(query, vectorstore_dir=\"docs/chroma/\", k=20)\n",
    "# Display the answer\n",
    "print(answer)"
   ]
  },
  {
   "cell_type": "code",
   "execution_count": 9,
   "metadata": {},
   "outputs": [
    {
     "name": "stdout",
     "output_type": "stream",
     "text": [
      " Ange Postecoglu is using a flexible system at Tottenham, with a preference for a 4-3-3 formation. However, due to injuries and absences, he has also used a 4-2-3-1 formation at times. He believes in playing an aggressive, attacking style with players maintaining width and pushing defenders back. He has a well-defined footballing ideology and is able to adapt his system to suit the players he has.\n"
     ]
    }
   ],
   "source": [
    "# Define your query\n",
    "query = \"What kind of system is Ange Postecoglu using at Tottenham?\"\n",
    "# Ask the question and get the answer\n",
    "answer = ask_question(query, vectorstore_dir=\"docs/chroma/\", k=20)\n",
    "# Display the answer\n",
    "print(answer)"
   ]
  },
  {
   "cell_type": "code",
   "execution_count": 10,
   "metadata": {},
   "outputs": [
    {
     "name": "stdout",
     "output_type": "stream",
     "text": [
      " Phil Foden's best position is in the number 10 role in the middle of the field.\n"
     ]
    }
   ],
   "source": [
    "# Define your query\n",
    "query = \"What is Phil Foden's best position?\"\n",
    "# Ask the question and get the answer\n",
    "answer = ask_question(query, vectorstore_dir=\"docs/chroma/\", k=20)\n",
    "# Display the answer\n",
    "print(answer)"
   ]
  }
 ],
 "metadata": {
  "kernelspec": {
   "display_name": "ragvenv",
   "language": "python",
   "name": "python3"
  },
  "language_info": {
   "codemirror_mode": {
    "name": "ipython",
    "version": 3
   },
   "file_extension": ".py",
   "mimetype": "text/x-python",
   "name": "python",
   "nbconvert_exporter": "python",
   "pygments_lexer": "ipython3",
   "version": "3.11.7"
  }
 },
 "nbformat": 4,
 "nbformat_minor": 2
}
