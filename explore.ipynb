{
 "cells": [
  {
   "cell_type": "code",
   "execution_count": 1,
   "metadata": {},
   "outputs": [],
   "source": [
    "# import warnings\n",
    "\n",
    "# # Suppress specific LangChainDeprecationWarnings\n",
    "# warnings.filterwarnings(\"ignore\", category=DeprecationWarning)\n",
    "\n",
    "# Import the custom module\n",
    "from qa_module import ask_question"
   ]
  },
  {
   "cell_type": "code",
   "execution_count": 10,
   "metadata": {},
   "outputs": [
    {
     "name": "stdout",
     "output_type": "stream",
     "text": [
      " The inverted fullback role is a tactical position where the fullback moves into a more central position on the field, often cutting towards the midfield, allowing for more attacking opportunities and creating confusion for the opposing team's defense.\n"
     ]
    }
   ],
   "source": [
    "# Define your query\n",
    "query = \"Tell me about the inverted fullback role\"\n",
    "# Ask the question and get the answer\n",
    "answer = ask_question(query, vectorstore_dir=\"docs/chroma/\", k=200)\n",
    "# Display the answer\n",
    "print(answer)"
   ]
  },
  {
   "cell_type": "code",
   "execution_count": 15,
   "metadata": {},
   "outputs": [
    {
     "name": "stdout",
     "output_type": "stream",
     "text": [
      " I don't know.\n"
     ]
    }
   ],
   "source": [
    "# Define your query\n",
    "query = \"Who is Ange Postecoglu?\"\n",
    "# Ask the question and get the answer\n",
    "answer = ask_question(query, vectorstore_dir=\"docs/chroma/\", k=20)\n",
    "# Display the answer\n",
    "print(answer)"
   ]
  },
  {
   "cell_type": "code",
   "execution_count": 16,
   "metadata": {},
   "outputs": [
    {
     "name": "stdout",
     "output_type": "stream",
     "text": [
      " There is no relevant information about the document, only a description of a magazine and some announcements about the author's personal life.\n"
     ]
    }
   ],
   "source": [
    "# Define your query\n",
    "query = \"What information do you have?\"\n",
    "# Ask the question and get the answer\n",
    "answer = ask_question(query, vectorstore_dir=\"docs/chroma/\", k=20)\n",
    "# Display the answer\n",
    "print(answer)"
   ]
  },
  {
   "cell_type": "code",
   "execution_count": 19,
   "metadata": {},
   "outputs": [
    {
     "name": "stdout",
     "output_type": "stream",
     "text": [
      " Rodri is considered the best in his position and plays a crucial role in Manchester City's midfield, helping to balance the team defensively and providing a key outlet for passes and attacking movements. His absence has been linked to City's defensive struggles and prioritizing defending against him has been a key strategy for opposing teams.\n"
     ]
    }
   ],
   "source": [
    "# Define your query\n",
    "query = \"Why is Rodri so important in Manchester City's midfield?\"\n",
    "# Ask the question and get the answer\n",
    "answer = ask_question(query, vectorstore_dir=\"docs/chroma/\", k=20)\n",
    "# Display the answer\n",
    "print(answer)"
   ]
  },
  {
   "cell_type": "code",
   "execution_count": 18,
   "metadata": {},
   "outputs": [
    {
     "name": "stdout",
     "output_type": "stream",
     "text": [
      " The risks to Ange Postecoglu's system are that it has been figured out by other teams and is vulnerable to counterattacks.\n"
     ]
    }
   ],
   "source": [
    "# Define your query\n",
    "query = \"What risks are there to Ange Postecoglu's system?\"\n",
    "# Ask the question and get the answer\n",
    "answer = ask_question(query, vectorstore_dir=\"docs/chroma/\", k=20)\n",
    "# Display the answer\n",
    "print(answer)"
   ]
  },
  {
   "cell_type": "code",
   "execution_count": 7,
   "metadata": {},
   "outputs": [
    {
     "name": "stdout",
     "output_type": "stream",
     "text": [
      " There are various reasons why Erling Haaland is considered a good football player, including his physical abilities, his finishing skills, his versatility, and his potential to become one of the best players in the world.\n"
     ]
    }
   ],
   "source": [
    "# Define your query\n",
    "query = \"Why is Erling Haaland a good football player?\"\n",
    "# Ask the question and get the answer\n",
    "answer = ask_question(query, vectorstore_dir=\"docs/chroma/\", k=20)\n",
    "# Display the answer\n",
    "print(answer)"
   ]
  },
  {
   "cell_type": "code",
   "execution_count": 8,
   "metadata": {},
   "outputs": [
    {
     "name": "stdout",
     "output_type": "stream",
     "text": [
      " It appears that Ange Postecoglu is using a system similar to his previous team, Celtic, but with some adjustments due to the differences in the Premier League. It is described as a high, aggressive and suffocating style of football with a focus on flexibility and adaptability. However, there is no mention of Tottenham or any specific system being used by Postecoglu at Tottenham.\n"
     ]
    }
   ],
   "source": [
    "# Define your query\n",
    "query = \"What kind of system is Ange Postecoglu using at Tottenham?\"\n",
    "# Ask the question and get the answer\n",
    "answer = ask_question(query, vectorstore_dir=\"docs/chroma/\", k=20)\n",
    "# Display the answer\n",
    "print(answer)"
   ]
  },
  {
   "cell_type": "code",
   "execution_count": 9,
   "metadata": {},
   "outputs": [
    {
     "name": "stdout",
     "output_type": "stream",
     "text": [
      " Phil Foden's best position is in the number 10 role, where he can utilize his instincts and thrive. He has struggled when placed in wide positions and does not seem to be trusted by Pep Guardiola in those positions. His ability to float off the defense and contribute to the midfield makes him a poor fit for the wide positions.\n"
     ]
    }
   ],
   "source": [
    "# Define your query\n",
    "query = \"What is Phil Foden's best position?\"\n",
    "# Ask the question and get the answer\n",
    "answer = ask_question(query, vectorstore_dir=\"docs/chroma/\", k=20)\n",
    "# Display the answer\n",
    "print(answer)"
   ]
  }
 ],
 "metadata": {
  "kernelspec": {
   "display_name": "ragvenv",
   "language": "python",
   "name": "python3"
  },
  "language_info": {
   "codemirror_mode": {
    "name": "ipython",
    "version": 3
   },
   "file_extension": ".py",
   "mimetype": "text/x-python",
   "name": "python",
   "nbconvert_exporter": "python",
   "pygments_lexer": "ipython3",
   "version": "3.11.7"
  }
 },
 "nbformat": 4,
 "nbformat_minor": 2
}
