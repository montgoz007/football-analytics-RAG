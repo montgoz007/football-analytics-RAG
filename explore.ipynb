{
 "cells": [
  {
   "cell_type": "code",
   "execution_count": 1,
   "metadata": {},
   "outputs": [],
   "source": [
    "# import warnings\n",
    "\n",
    "# # Suppress specific LangChainDeprecationWarnings\n",
    "# warnings.filterwarnings(\"ignore\", category=DeprecationWarning)\n",
    "\n",
    "# Import the custom module\n",
    "from qa_module import ask_question"
   ]
  },
  {
   "cell_type": "code",
   "execution_count": 2,
   "metadata": {},
   "outputs": [
    {
     "name": "stdout",
     "output_type": "stream",
     "text": [
      " I am Adam Cleary, a member of 442 and a representative of the world's biggest football magazine and YouTube channel.\n"
     ]
    }
   ],
   "source": [
    "# Define your query\n",
    "query = \"Who are you\"\n",
    "# Ask the question and get the answer\n",
    "answer = ask_question(query, vectorstore_dir=\"docs/chroma/\", k=20)\n",
    "# Display the answer\n",
    "print(answer)"
   ]
  },
  {
   "cell_type": "code",
   "execution_count": 3,
   "metadata": {},
   "outputs": [
    {
     "name": "stdout",
     "output_type": "stream",
     "text": [
      " It appears that the speaker is good at winning the ball back, intercepting the ball, and creating chances. They also mention being good at controlling the ball, passing, and being press-resistant.\n"
     ]
    }
   ],
   "source": [
    "# Define your query\n",
    "query = \"What are you good at?\"\n",
    "# Ask the question and get the answer\n",
    "answer = ask_question(query, vectorstore_dir=\"docs/chroma/\", k=20)\n",
    "# Display the answer\n",
    "print(answer)"
   ]
  },
  {
   "cell_type": "code",
   "execution_count": 4,
   "metadata": {},
   "outputs": [
    {
     "name": "stdout",
     "output_type": "stream",
     "text": [
      " The information available is about the 442 magazine and its contents.\n"
     ]
    }
   ],
   "source": [
    "# Define your query\n",
    "query = \"What information do you have?\"\n",
    "# Ask the question and get the answer\n",
    "answer = ask_question(query, vectorstore_dir=\"docs/chroma/\", k=20)\n",
    "# Display the answer\n",
    "print(answer)"
   ]
  },
  {
   "cell_type": "code",
   "execution_count": 5,
   "metadata": {},
   "outputs": [
    {
     "name": "stdout",
     "output_type": "stream",
     "text": [
      " Yes, Erling Haaland is a football player.\n"
     ]
    }
   ],
   "source": [
    "# Define your query\n",
    "query = \"Is Erling Haaland a football player?\"\n",
    "# Ask the question and get the answer\n",
    "answer = ask_question(query, vectorstore_dir=\"docs/chroma/\", k=20)\n",
    "# Display the answer\n",
    "print(answer)"
   ]
  },
  {
   "cell_type": "code",
   "execution_count": 6,
   "metadata": {},
   "outputs": [
    {
     "name": "stdout",
     "output_type": "stream",
     "text": [
      " It is generally agreed that Erling Haaland is a good football player.\n"
     ]
    }
   ],
   "source": [
    "# Define your query\n",
    "query = \"Is Erling Haaland a good football player?\"\n",
    "# Ask the question and get the answer\n",
    "answer = ask_question(query, vectorstore_dir=\"docs/chroma/\", k=20)\n",
    "# Display the answer\n",
    "print(answer)"
   ]
  },
  {
   "cell_type": "code",
   "execution_count": 7,
   "metadata": {},
   "outputs": [
    {
     "name": "stdout",
     "output_type": "stream",
     "text": [
      " There are various reasons why Erling Haaland is considered a good football player, including his physical abilities, his finishing skills, his versatility, and his potential to become one of the best players in the world.\n"
     ]
    }
   ],
   "source": [
    "# Define your query\n",
    "query = \"Why is Erling Haaland a good football player?\"\n",
    "# Ask the question and get the answer\n",
    "answer = ask_question(query, vectorstore_dir=\"docs/chroma/\", k=20)\n",
    "# Display the answer\n",
    "print(answer)"
   ]
  },
  {
   "cell_type": "code",
   "execution_count": 8,
   "metadata": {},
   "outputs": [
    {
     "name": "stdout",
     "output_type": "stream",
     "text": [
      " It appears that Ange Postecoglu is using a system similar to his previous team, Celtic, but with some adjustments due to the differences in the Premier League. It is described as a high, aggressive and suffocating style of football with a focus on flexibility and adaptability. However, there is no mention of Tottenham or any specific system being used by Postecoglu at Tottenham.\n"
     ]
    }
   ],
   "source": [
    "# Define your query\n",
    "query = \"What kind of system is Ange Postecoglu using at Tottenham?\"\n",
    "# Ask the question and get the answer\n",
    "answer = ask_question(query, vectorstore_dir=\"docs/chroma/\", k=20)\n",
    "# Display the answer\n",
    "print(answer)"
   ]
  },
  {
   "cell_type": "code",
   "execution_count": 9,
   "metadata": {},
   "outputs": [
    {
     "name": "stdout",
     "output_type": "stream",
     "text": [
      " Phil Foden's best position is in the number 10 role, where he can utilize his instincts and thrive. He has struggled when placed in wide positions and does not seem to be trusted by Pep Guardiola in those positions. His ability to float off the defense and contribute to the midfield makes him a poor fit for the wide positions.\n"
     ]
    }
   ],
   "source": [
    "# Define your query\n",
    "query = \"What is Phil Foden's best position?\"\n",
    "# Ask the question and get the answer\n",
    "answer = ask_question(query, vectorstore_dir=\"docs/chroma/\", k=20)\n",
    "# Display the answer\n",
    "print(answer)"
   ]
  }
 ],
 "metadata": {
  "kernelspec": {
   "display_name": "ragvenv",
   "language": "python",
   "name": "python3"
  },
  "language_info": {
   "codemirror_mode": {
    "name": "ipython",
    "version": 3
   },
   "file_extension": ".py",
   "mimetype": "text/x-python",
   "name": "python",
   "nbconvert_exporter": "python",
   "pygments_lexer": "ipython3",
   "version": "3.11.7"
  }
 },
 "nbformat": 4,
 "nbformat_minor": 2
}
